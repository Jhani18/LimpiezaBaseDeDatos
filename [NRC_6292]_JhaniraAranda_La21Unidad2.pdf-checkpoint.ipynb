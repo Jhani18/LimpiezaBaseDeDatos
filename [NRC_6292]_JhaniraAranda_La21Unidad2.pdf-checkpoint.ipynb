{
 "cells": [
  {
   "cell_type": "code",
   "execution_count": 1,
   "id": "da4afcb0",
   "metadata": {},
   "outputs": [],
   "source": [
    "'''Se carga la librería que carga las bases de datos'''\n",
    "import pandas as pd\n",
    "'''Se importa la librería numpy para operaciones matemáticas'''\n",
    "import numpy as np\n",
    "'''Se importa sklearns para poder tratar con el aprendizaje supervisado'''\n",
    "from sklearn.impute import SimpleImputer\n",
    "'''Se importa la librería para manejar C,C++,Java,Python, etc'''\n",
    "import json"
   ]
  },
  {
   "cell_type": "code",
   "execution_count": 2,
   "id": "bf83c7ac",
   "metadata": {
    "scrolled": true
   },
   "outputs": [
    {
     "data": {
      "text/html": [
       "<div>\n",
       "<style scoped>\n",
       "    .dataframe tbody tr th:only-of-type {\n",
       "        vertical-align: middle;\n",
       "    }\n",
       "\n",
       "    .dataframe tbody tr th {\n",
       "        vertical-align: top;\n",
       "    }\n",
       "\n",
       "    .dataframe thead th {\n",
       "        text-align: right;\n",
       "    }\n",
       "</style>\n",
       "<table border=\"1\" class=\"dataframe\">\n",
       "  <thead>\n",
       "    <tr style=\"text-align: right;\">\n",
       "      <th></th>\n",
       "      <th>CrimeId</th>\n",
       "      <th>OriginalCrimeTypeName</th>\n",
       "      <th>OffenseDate</th>\n",
       "      <th>CallTime</th>\n",
       "      <th>CallDateTime</th>\n",
       "      <th>Disposition</th>\n",
       "      <th>Address</th>\n",
       "      <th>City</th>\n",
       "      <th>State</th>\n",
       "      <th>AgencyId</th>\n",
       "      <th>Range</th>\n",
       "      <th>AddressType</th>\n",
       "    </tr>\n",
       "  </thead>\n",
       "  <tbody>\n",
       "    <tr>\n",
       "      <th>0</th>\n",
       "      <td>160903280</td>\n",
       "      <td>Assault / Battery</td>\n",
       "      <td>2016-03-30T00:00:00</td>\n",
       "      <td>18:42</td>\n",
       "      <td>2016-03-30T18:42:00</td>\n",
       "      <td>REP</td>\n",
       "      <td>100 Block Of Chilton Av</td>\n",
       "      <td>San Francisco</td>\n",
       "      <td>CA</td>\n",
       "      <td>1</td>\n",
       "      <td>NaN</td>\n",
       "      <td>Premise Address</td>\n",
       "    </tr>\n",
       "    <tr>\n",
       "      <th>1</th>\n",
       "      <td>160912272</td>\n",
       "      <td>Homeless Complaint</td>\n",
       "      <td>2016-03-31T00:00:00</td>\n",
       "      <td>15:31</td>\n",
       "      <td>2016-03-31T15:31:00</td>\n",
       "      <td>GOA</td>\n",
       "      <td>2300 Block Of Market St</td>\n",
       "      <td>San Francisco</td>\n",
       "      <td>CA</td>\n",
       "      <td>1</td>\n",
       "      <td>NaN</td>\n",
       "      <td>Premise Address</td>\n",
       "    </tr>\n",
       "    <tr>\n",
       "      <th>2</th>\n",
       "      <td>160912590</td>\n",
       "      <td>Susp Info</td>\n",
       "      <td>2016-03-31T00:00:00</td>\n",
       "      <td>16:49</td>\n",
       "      <td>2016-03-31T16:49:00</td>\n",
       "      <td>GOA</td>\n",
       "      <td>2300 Block Of Market St</td>\n",
       "      <td>San Francisco</td>\n",
       "      <td>CA</td>\n",
       "      <td>1</td>\n",
       "      <td>NaN</td>\n",
       "      <td>Premise Address</td>\n",
       "    </tr>\n",
       "    <tr>\n",
       "      <th>3</th>\n",
       "      <td>160912801</td>\n",
       "      <td>Report</td>\n",
       "      <td>2016-03-31T00:00:00</td>\n",
       "      <td>17:38</td>\n",
       "      <td>2016-03-31T17:38:00</td>\n",
       "      <td>GOA</td>\n",
       "      <td>500 Block Of 7th St</td>\n",
       "      <td>San Francisco</td>\n",
       "      <td>CA</td>\n",
       "      <td>1</td>\n",
       "      <td>NaN</td>\n",
       "      <td>Premise Address</td>\n",
       "    </tr>\n",
       "    <tr>\n",
       "      <th>4</th>\n",
       "      <td>160912811</td>\n",
       "      <td>594</td>\n",
       "      <td>2016-03-31T00:00:00</td>\n",
       "      <td>17:42</td>\n",
       "      <td>2016-03-31T17:42:00</td>\n",
       "      <td>REP</td>\n",
       "      <td>Beale St/bryant St</td>\n",
       "      <td>San Francisco</td>\n",
       "      <td>CA</td>\n",
       "      <td>1</td>\n",
       "      <td>NaN</td>\n",
       "      <td>Intersection</td>\n",
       "    </tr>\n",
       "  </tbody>\n",
       "</table>\n",
       "</div>"
      ],
      "text/plain": [
       "     CrimeId OriginalCrimeTypeName          OffenseDate CallTime  \\\n",
       "0  160903280     Assault / Battery  2016-03-30T00:00:00    18:42   \n",
       "1  160912272    Homeless Complaint  2016-03-31T00:00:00    15:31   \n",
       "2  160912590             Susp Info  2016-03-31T00:00:00    16:49   \n",
       "3  160912801                Report  2016-03-31T00:00:00    17:38   \n",
       "4  160912811                   594  2016-03-31T00:00:00    17:42   \n",
       "\n",
       "          CallDateTime Disposition                  Address           City  \\\n",
       "0  2016-03-30T18:42:00         REP  100 Block Of Chilton Av  San Francisco   \n",
       "1  2016-03-31T15:31:00         GOA  2300 Block Of Market St  San Francisco   \n",
       "2  2016-03-31T16:49:00         GOA  2300 Block Of Market St  San Francisco   \n",
       "3  2016-03-31T17:38:00         GOA      500 Block Of 7th St  San Francisco   \n",
       "4  2016-03-31T17:42:00         REP       Beale St/bryant St  San Francisco   \n",
       "\n",
       "  State AgencyId  Range      AddressType  \n",
       "0    CA        1    NaN  Premise Address  \n",
       "1    CA        1    NaN  Premise Address  \n",
       "2    CA        1    NaN  Premise Address  \n",
       "3    CA        1    NaN  Premise Address  \n",
       "4    CA        1    NaN     Intersection  "
      ]
     },
     "execution_count": 2,
     "metadata": {},
     "output_type": "execute_result"
    }
   ],
   "source": [
    "'''Se importa el dataset cargado'''\n",
    "df=pd.read_csv('data_act_01.csv',sep=';')\n",
    "'''Se imprimen los registro de la base de datos'''\n",
    "df.head()"
   ]
  },
  {
   "cell_type": "code",
   "execution_count": 3,
   "id": "bc4f8829",
   "metadata": {},
   "outputs": [
    {
     "data": {
      "text/plain": [
       "(10051, 12)"
      ]
     },
     "execution_count": 3,
     "metadata": {},
     "output_type": "execute_result"
    }
   ],
   "source": [
    "'''Se observa la dimensión de la base de datos'''\n",
    "df.shape"
   ]
  },
  {
   "cell_type": "code",
   "execution_count": 4,
   "id": "745c6d64",
   "metadata": {},
   "outputs": [
    {
     "name": "stdout",
     "output_type": "stream",
     "text": [
      "<class 'pandas.core.frame.DataFrame'>\n",
      "RangeIndex: 10051 entries, 0 to 10050\n",
      "Data columns (total 12 columns):\n",
      " #   Column                 Non-Null Count  Dtype  \n",
      "---  ------                 --------------  -----  \n",
      " 0   CrimeId                10051 non-null  int64  \n",
      " 1   OriginalCrimeTypeName  10051 non-null  object \n",
      " 2   OffenseDate            10051 non-null  object \n",
      " 3   CallTime               10051 non-null  object \n",
      " 4   CallDateTime           10051 non-null  object \n",
      " 5   Disposition            10051 non-null  object \n",
      " 6   Address                10051 non-null  object \n",
      " 7   City                   9730 non-null   object \n",
      " 8   State                  10048 non-null  object \n",
      " 9   AgencyId               10051 non-null  object \n",
      " 10  Range                  0 non-null      float64\n",
      " 11  AddressType            10051 non-null  object \n",
      "dtypes: float64(1), int64(1), object(10)\n",
      "memory usage: 942.4+ KB\n"
     ]
    }
   ],
   "source": [
    "'''Obtenemos la información sobre las variables de la base de datos'''\n",
    "df.info()"
   ]
  },
  {
   "cell_type": "code",
   "execution_count": 5,
   "id": "04c6d6dd",
   "metadata": {},
   "outputs": [],
   "source": [
    "'''Se ordenan las columnas de la base de datos'''\n",
    "columnas = ['CrimeId','OriginalCrimeTypeName','OffenseDate','CallTime','CallDateTime','Disposition','Address','City','State','AgencyId','Range','AddressType']"
   ]
  },
  {
   "cell_type": "code",
   "execution_count": 6,
   "id": "8978c8dc",
   "metadata": {},
   "outputs": [
    {
     "data": {
      "text/plain": [
       "CrimeId                      0\n",
       "OriginalCrimeTypeName        0\n",
       "OffenseDate                  0\n",
       "CallTime                     0\n",
       "CallDateTime                 0\n",
       "Disposition                  0\n",
       "Address                      0\n",
       "City                       321\n",
       "State                        3\n",
       "AgencyId                     0\n",
       "Range                    10051\n",
       "AddressType                  0\n",
       "dtype: int64"
      ]
     },
     "execution_count": 6,
     "metadata": {},
     "output_type": "execute_result"
    }
   ],
   "source": [
    "'''Al igual que en base de datos anteriores, se busca los registros vacíos y se suman'''\n",
    "df.isnull().sum()"
   ]
  },
  {
   "cell_type": "code",
   "execution_count": 7,
   "id": "14037821",
   "metadata": {},
   "outputs": [
    {
     "data": {
      "text/plain": [
       "0"
      ]
     },
     "execution_count": 7,
     "metadata": {},
     "output_type": "execute_result"
    }
   ],
   "source": [
    "'''Se verifica la existencia de registros duplicados'''\n",
    "df.duplicated().sum()"
   ]
  },
  {
   "cell_type": "markdown",
   "id": "85537303",
   "metadata": {},
   "source": [
    "# Errores de la base de datos\n",
    "\n",
    "1. Presencia la redundancia de datos al tener una columna para la hora, una columna para la fecha y otra columna para fecha y hora.\n",
    "\n",
    "2. Tenemos datos vacíos en State y en City\n",
    "\n",
    "3. La columna Range está completamente vacía"
   ]
  },
  {
   "cell_type": "code",
   "execution_count": 8,
   "id": "840887bf",
   "metadata": {},
   "outputs": [],
   "source": [
    "'''Se procede a encontrar los datos que son únicos'''\n",
    "def d_unico(n_caracteristicas):\n",
    "    '''Recorre las características de la base de datos'''\n",
    "    for i in n_caracteristicas:\n",
    "        '''Que almacene los datos únicos'''\n",
    "        display(i, df[i].unique(), '----')"
   ]
  },
  {
   "cell_type": "code",
   "execution_count": 9,
   "id": "5b63a847",
   "metadata": {},
   "outputs": [
    {
     "data": {
      "text/plain": [
       "'CrimeId'"
      ]
     },
     "metadata": {},
     "output_type": "display_data"
    },
    {
     "data": {
      "text/plain": [
       "array([160903280, 160912272, 160912590, ..., 160964227, 160964229,\n",
       "       160964249], dtype=int64)"
      ]
     },
     "metadata": {},
     "output_type": "display_data"
    },
    {
     "data": {
      "text/plain": [
       "'----'"
      ]
     },
     "metadata": {},
     "output_type": "display_data"
    },
    {
     "data": {
      "text/plain": [
       "'OriginalCrimeTypeName'"
      ]
     },
     "metadata": {},
     "output_type": "display_data"
    },
    {
     "data": {
      "text/plain": [
       "array(['Assault / Battery', 'Homeless Complaint', 'Susp Info', 'Report',\n",
       "       '594', \"Ref'd\", 'Agg Assault / Adw Dv', 'Encampment', 'Burglary',\n",
       "       'Suspicious Person', 'Ip', 'Arrest Made', 'Tent',\n",
       "       'Intoxicated Person', 'Guitar', 'H&r Veh Accident', 'Music',\n",
       "       'Person Dumping', 'Vandalism', 'Petty Theft', '415',\n",
       "       'Noise Nuisance', 'Fraud', 'Rep', 'Meet W/citizen',\n",
       "       'Prisoner Transport', 'Poss', 'Trespasser', 'Stolen Vehicle',\n",
       "       'Fight No Weapon', 'Check For Ped', 'Juvenile Disturbance',\n",
       "       'Party', 'Lltd', 'Robbery', '601', '500e', '913', 'Traffic Stop',\n",
       "       '909', 'Person W/gun', 'Suspicious Vehicle', 'Fight No Weapon Dv',\n",
       "       'Audible Alarm', 'Parking', 'Pay', 'Silent Holdup Alarm',\n",
       "       'Passing Call', 'Sleeper', 'Family', 'Thumping', 'Loud Music',\n",
       "       '916', 'Att', 'Threats / Harassment', 'Boombox',\n",
       "       'Traf Violation Tow', 'Dw', 'Bar Check', 'Suicide Attempt', 'Susp',\n",
       "       'Crosswalk', 'Casing/917', 'Wireless-Drop', 'Uc Hastings/405',\n",
       "       'Bomb Threat', 'Mentally Disturbed', 'Silent Alarm',\n",
       "       'Traf Violation Cite', 'Person Breaking In', 'Complaint Unkn',\n",
       "       '811', 'Casing', 'Prowler', 'Shots Fired', 'Shooting', '915',\n",
       "       'Citizen Arrest', '919', '417', 'Person Screaming',\n",
       "       'Well Being Check', '917', '917/811', 'Jo/bolo',\n",
       "       'Wanted Vehicle / Sub', 'Ug', 'Poss Ip', 'Hold-Up', '531', 'Fare',\n",
       "       'Construction', 'Drugs', 'Campers', 'Poss/601',\n",
       "       'Assault / Battery Dv', 'X', 'Return', 'Rtl', 'Verbal', '518',\n",
       "       'Meet W/officer', '488', 'Awol', 'Strongarm Robbery', 'Aggressive',\n",
       "       'Male', \"Veh's\", 'Rz', 'Sw', 'Encampent', 'Loitering',\n",
       "       'Muni Inspection', 'Auto Boost / Strip', 'Jo', 'Dw/rz', '22500e',\n",
       "       'Sleepers', 'Fire', 'Mal', 'Trc 7.2.46', 'Reckless', 'Camper',\n",
       "       '22500f', 'City Veh', 'Openline', 'Indecent Exposure',\n",
       "       'Injury Veh Accident', 'Rept', 'Cw', '851', 'Prem Check',\n",
       "       'Person W/knife', 'Ringing Doorbell', 'Veh Accident',\n",
       "       'Sleeper 601', 'I/p', 'Video', 'Unoccupied', 'R/o Violation',\n",
       "       'Psych Eval / Hold', 'Missing Adult', 'Vehicle Alarm',\n",
       "       'Person Down', '418', 'Found Drugs', 'Citizen Standby', 'Yelling',\n",
       "       '7.2.41', 'Lltn', '7.2.45', 'Nabor', 'X 594', 'Glass Bottles',\n",
       "       'Missing Juvenile', 'Sexual Assault Juve', '852', 'Escalating',\n",
       "       'Demo / Protest', 'Death / Coroner', 'Jjo', 'Vc21113a',\n",
       "       'Aggressive 601', 'Sexual Assault Adult', '601 Ug',\n",
       "       'Recover Missing Veh', 'Npat', 'Aggr Soliciting', '7.2.46',\n",
       "       'Dog Barking', '800', 'Grand Theft', 'Rz/dw',\n",
       "       'H&r Injury Accident', 'Pepperspray', '22500e/22500b', 'Vendors',\n",
       "       'Agg Assault / Adw', 'Crack', '905/muni', 'Opp', '311',\n",
       "       'Stolen Property', 'Poss Caser', '22500h', '22514',\n",
       "       'Senile Person', '311 X', 'Selling Foods', 'Muni', 'Elevator',\n",
       "       'Veh', 'Ll/td', '221', 'Static', 'Road Rage', 'W/a Hammer',\n",
       "       '221 Poss', 'At Risk', 'Drop', 'Juve Beyond Control', '22500e/.25',\n",
       "       'Squattters', 'Illegal Vendor', '7.2.25', 'Parking Space',\n",
       "       'Susp Poss', '22500a', '913/child', 'Dancer', '500f', '500h',\n",
       "       '7.2.28', 'Drinking', '240/spit', 'Poss 5150', 'Ped',\n",
       "       'Pepper Spray', '222', '487', '368ca Poss', '470', '22500i',\n",
       "       'Panic Alarm', 'Drugs Needles', '911 Hu', 'Purse Snatch',\n",
       "       '212 Poss', '7.2.26', 'Custody', '7.2.27', '22500eal',\n",
       "       'Resisting Arrest', 'Mc', 'Dirtbikes', 'Gamblers', 'Drugs/dealing',\n",
       "       'Drunk Driver', 'Ret', 'Spitter', 'Prostitute/solicite',\n",
       "       'Aided Case', '22500f/cw', 'Suspect', '518/muni', '22500b',\n",
       "       'Barking', '7.2.32', 'Bat', 'Dirtbikes/586', '213', 'Encampments',\n",
       "       '7.2.38', '7.2.40', 'Ll/ll', 'Adv', 'Chp', '911-Drop', 'Hammer',\n",
       "       'Open Line', 'Physical', 'Dog', '915 Sleeper', '910',\n",
       "       'Pay Dispute', '245', 'Keys', 'Nabors', '650', 'Opportunist',\n",
       "       'Live Band', 'Recorder', 'Female', 'Poss 152', 'Poss Casing',\n",
       "       '915 Encampment', 'Tx To Chp', 'Party Yelling', '852 Poss',\n",
       "       \"Juv's\", '586/poss 588', '5150', 'At The Atm', 'Male/poss Hazard',\n",
       "       'Heated', 'Adv To 0123', 'Busn', 'Dw Tow', 'Band', 'Kidnapping',\n",
       "       'Poss Attempt', 'Driveway', 'Threats Dv', '415 Music',\n",
       "       'Att/240 Jo', '5150 Poss', 'Stick', 'Spike', '647b Poss', 'Alarm',\n",
       "       'Sideshow', '22502a', 'Taxi Zone', 'Graffiti Vandalism', '601 Rtl',\n",
       "       'Living', 'Roof', 'Dp', '22500l', '801 Poss', 'J/o', 'Gz', 'Caser',\n",
       "       'Wz', '519', 'Poss Escalating', 'Sign', 'Ambulance', 'Drops//busn',\n",
       "       'Suspects', '811 Male', 'Camp', 'Attemp', 'Drinkers', 'Uwg', 'Lp',\n",
       "       'H&r', 'Poss 207', 'Tree Bark', 'Poss 800', 'Vendor', 'Casing/852',\n",
       "       'Ro Viol', '519 Poss', '9915', 'Pups', '518hr', 'Reckless Mcs',\n",
       "       '586', '800attempt', 'Follow Up', 'Chop Shop', 'Paydispute',\n",
       "       'Illegal Gambling', 'Rep Identity Theft', '225800e',\n",
       "       '852 Occupied', '594 Poss', 'Busn/voip', 'Roadrage', '252500e',\n",
       "       '420 Drugs', '912', 'Sudrugs', 'Fi**expedite**', 'Rtl/aggressive',\n",
       "       'Ro Violation', 'Tow Truck', '800 Poss', '*909*', '22500',\n",
       "       '152 Jo', '7.2.25/2250e', 'Agressive', 'Pay Dis', 'Rtl Cab',\n",
       "       'Drummer', '22500f/7.2.70', 'Person W/knife Dv', 'Hu', '800  Poss',\n",
       "       '152 Poss', 'Elderly X', 'Hold Up', 'Chp 1030 Veh', 'Sagressive',\n",
       "       'Bart', '240 Poss', 'Illegal Vendors', 'Loud Party', 'Stabbing',\n",
       "       'Roomate', 'Fireworks', 'Property', 'Iph', 'Bottles', 'Cane',\n",
       "       'Get Inside The Bldg', 'Music/909', 'Panic', '601rtl',\n",
       "       'Vandalism Dv', 'Neighbors', 'Open', 'Poss/910prem Check',\n",
       "       'Stattic', '594 Ip', '601uwg', '911', 'Poss 519', 'Making A Mess',\n",
       "       'Campers W/bikes', 'Pos Jumper', 'Doorway/917', 'Camping',\n",
       "       '**Tazer**', 'Loading Dock', 'Bl', 'Naked', 'Attempt',\n",
       "       'Explosive Found', 'Car Campers', '915 Campers',\n",
       "       'Poss Unreported 1030', 'Subj', 'Fp', 'Gambling', 'Wild',\n",
       "       '5150 Hold Poss', '419', '7.2.41/22500f', 'Shooting Up',\n",
       "       'St Vendors', '22500e/rz', 'Person Break In Dv', 'Veh W/open Door',\n",
       "       '22507.8a', 'Poss 801', '901 For 909', 'Unocc', 'Samurai',\n",
       "       '911 Open', 'Poss/851 Attemp Poss', 'Drugdealer', \"Mc's\", 'S',\n",
       "       'Rp', '459', 'Atc', '915s', 'Rtl/811', '420', 'Amplified',\n",
       "       'Tra7.2.37', 'Casers', 'Jump', 'Dismember Body Part', 'Poss/420',\n",
       "       '500b', '7.2.25/22500e', 'Busy', '528 Poss', 'Poss Walk Thru',\n",
       "       'Mace', 'Child', 'Loud Bass', 'Spit', 'Prem', 'Roof Squatters',\n",
       "       '.25/500e', '910 X', 'Drug Use', 'In Svc/ On Foot', 'Explosion',\n",
       "       'Scratch', '916/music', 'Return Call', 'Verbals', '100v',\n",
       "       'Loud Talking', '601/415', 'Hot', 'Cassing', 'Poss 488', 'A',\n",
       "       '152', '601/311', 'Trc 7.2.45', 'Cz', 'Silent', 'Poss Hazard',\n",
       "       '502a', '801 Threats', 'Home Invasion', '911 Drop', 'Tz', 'Npa',\n",
       "       'Toilet', 'Dropped Call', '459 Attempt', 'Ucpd', 'Jumper',\n",
       "       'Dog Bite', '909x', 'Attempt Report', 'Tro', 'Stepping On Plants',\n",
       "       'Muni Alarm', 'Ld', '240/602 Suspect', 'Poss Susp', '311x/poss800',\n",
       "       'Dogs Barking', 'Panhandler W/pitbull', 'Video Surveillence',\n",
       "       'H/r', '221/222 Poss', 'Areport', 'Protestors', '470 Poss',\n",
       "       'Broken Window', '`Drugs', 'Haz', 'House', '418rm', '240', '21211',\n",
       "       'Att Jo', \"Loud Subj's\", '811 Poss', '601/488', '7.2.70', 'Resd',\n",
       "       'Maced', '801', 'Suatters', '22514/500b', '212', '911 Open Line',\n",
       "       'Recycling', 'Park Ranger', 'Curb', 'Pills', 'Ll/ Tenant',\n",
       "       '219/601', 'Ifo', '911 Hu Call', '920 Rtl', 'Poss Att', 'Att Only',\n",
       "       'Ams', '***901 Req***', 'Drugs/915', 'Rpt', 'Children', '500e/rz',\n",
       "       'Vehicle', 'Ug Rtl', '601/family', 'Death', 'Att Susp', '9909',\n",
       "       '2 Reps', 'Vending', 'Drp', 'Brewing/pay Dispute', 'Skateboarders',\n",
       "       'Sonitrol', 'Wreckless Driver', '148', 'Bicylist', '852 Casing',\n",
       "       'Nabo', 'R.o. Violation', '910 Poss', '22500e/500h', 'Pay Disp',\n",
       "       '22654e', 'Brewing', '.52', 'Phys', '222 Att', 'Wireless-Open',\n",
       "       'Adv To Co A', 'Wireless-H/u'], dtype=object)"
      ]
     },
     "metadata": {},
     "output_type": "display_data"
    },
    {
     "data": {
      "text/plain": [
       "'----'"
      ]
     },
     "metadata": {},
     "output_type": "display_data"
    },
    {
     "data": {
      "text/plain": [
       "'OffenseDate'"
      ]
     },
     "metadata": {},
     "output_type": "display_data"
    },
    {
     "data": {
      "text/plain": [
       "array(['2016-03-30T00:00:00', '2016-03-31T00:00:00',\n",
       "       '2016-04-01T00:00:00', '2016-04-02T00:00:00',\n",
       "       '2016-04-03T00:00:00', '2016-04-04T00:00:00',\n",
       "       '2013-04-04T00:00:00', '2025-04-04T00:00:00',\n",
       "       '2016-04-05T00:00:00'], dtype=object)"
      ]
     },
     "metadata": {},
     "output_type": "display_data"
    },
    {
     "data": {
      "text/plain": [
       "'----'"
      ]
     },
     "metadata": {},
     "output_type": "display_data"
    },
    {
     "data": {
      "text/plain": [
       "'CallTime'"
      ]
     },
     "metadata": {},
     "output_type": "display_data"
    },
    {
     "data": {
      "text/plain": [
       "array(['18:42', '15:31', '16:49', ..., '6:12', '6:33', '6:55'],\n",
       "      dtype=object)"
      ]
     },
     "metadata": {},
     "output_type": "display_data"
    },
    {
     "data": {
      "text/plain": [
       "'----'"
      ]
     },
     "metadata": {},
     "output_type": "display_data"
    },
    {
     "data": {
      "text/plain": [
       "'CallDateTime'"
      ]
     },
     "metadata": {},
     "output_type": "display_data"
    },
    {
     "data": {
      "text/plain": [
       "array(['2016-03-30T18:42:00', '2016-03-31T15:31:00',\n",
       "       '2016-03-31T16:49:00', ..., '2016-04-05T23:43:00',\n",
       "       '2016-04-05T23:48:00', '2016-04-05T23:54:00'], dtype=object)"
      ]
     },
     "metadata": {},
     "output_type": "display_data"
    },
    {
     "data": {
      "text/plain": [
       "'----'"
      ]
     },
     "metadata": {},
     "output_type": "display_data"
    },
    {
     "data": {
      "text/plain": [
       "'Disposition'"
      ]
     },
     "metadata": {},
     "output_type": "display_data"
    },
    {
     "data": {
      "text/plain": [
       "array(['REP', 'GOA', 'ADV', 'HAN', 'ND', 'ARR', 'UTL', 'Not recorded',\n",
       "       'CIT', 'PAS', 'ABA', 'NOM', 'ADM', 'CAN', 'INC', 'NCR', '22',\n",
       "       'CRT', 'SFD'], dtype=object)"
      ]
     },
     "metadata": {},
     "output_type": "display_data"
    },
    {
     "data": {
      "text/plain": [
       "'----'"
      ]
     },
     "metadata": {},
     "output_type": "display_data"
    },
    {
     "data": {
      "text/plain": [
       "'Address'"
      ]
     },
     "metadata": {},
     "output_type": "display_data"
    },
    {
     "data": {
      "text/plain": [
       "array(['100 Block Of Chilton Av', '2300 Block Of Market St',\n",
       "       '500 Block Of 7th St', ..., 'Hollister Av/hawes St',\n",
       "       'Rosella Ct/onondaga Av', '0 Blk Herbst Rd'], dtype=object)"
      ]
     },
     "metadata": {},
     "output_type": "display_data"
    },
    {
     "data": {
      "text/plain": [
       "'----'"
      ]
     },
     "metadata": {},
     "output_type": "display_data"
    },
    {
     "data": {
      "text/plain": [
       "'City'"
      ]
     },
     "metadata": {},
     "output_type": "display_data"
    },
    {
     "data": {
      "text/plain": [
       "array(['San Francisco', nan, 'Daly City', 'Treasure Isla', 'Yerba Buena',\n",
       "       'SAN FRANCISCO', 'Presidio', ' S', 'Brisbane'], dtype=object)"
      ]
     },
     "metadata": {},
     "output_type": "display_data"
    },
    {
     "data": {
      "text/plain": [
       "'----'"
      ]
     },
     "metadata": {},
     "output_type": "display_data"
    },
    {
     "data": {
      "text/plain": [
       "'State'"
      ]
     },
     "metadata": {},
     "output_type": "display_data"
    },
    {
     "data": {
      "text/plain": [
       "array(['CA', nan], dtype=object)"
      ]
     },
     "metadata": {},
     "output_type": "display_data"
    },
    {
     "data": {
      "text/plain": [
       "'----'"
      ]
     },
     "metadata": {},
     "output_type": "display_data"
    },
    {
     "data": {
      "text/plain": [
       "'AgencyId'"
      ]
     },
     "metadata": {},
     "output_type": "display_data"
    },
    {
     "data": {
      "text/plain": [
       "array(['1', 'CA'], dtype=object)"
      ]
     },
     "metadata": {},
     "output_type": "display_data"
    },
    {
     "data": {
      "text/plain": [
       "'----'"
      ]
     },
     "metadata": {},
     "output_type": "display_data"
    },
    {
     "data": {
      "text/plain": [
       "'Range'"
      ]
     },
     "metadata": {},
     "output_type": "display_data"
    },
    {
     "data": {
      "text/plain": [
       "array([nan])"
      ]
     },
     "metadata": {},
     "output_type": "display_data"
    },
    {
     "data": {
      "text/plain": [
       "'----'"
      ]
     },
     "metadata": {},
     "output_type": "display_data"
    },
    {
     "data": {
      "text/plain": [
       "'AddressType'"
      ]
     },
     "metadata": {},
     "output_type": "display_data"
    },
    {
     "data": {
      "text/plain": [
       "array(['Premise Address', 'Intersection', 'Common Location',\n",
       "       'Geo-Override', 'Intersectioon', '1'], dtype=object)"
      ]
     },
     "metadata": {},
     "output_type": "display_data"
    },
    {
     "data": {
      "text/plain": [
       "'----'"
      ]
     },
     "metadata": {},
     "output_type": "display_data"
    }
   ],
   "source": [
    "'''Impresión de los datos unicos'''\n",
    "d_unico(columnas)"
   ]
  },
  {
   "cell_type": "code",
   "execution_count": 10,
   "id": "ea6ea211",
   "metadata": {},
   "outputs": [],
   "source": [
    "'''Buscar si los valores \"unicos\" se repiten'''\n",
    "def d_unico(n_caracteristicas):\n",
    "    for i in n_caracteristicas:\n",
    "        display(df.groupby(i).size().reset_index(name='Cantidad'))"
   ]
  },
  {
   "cell_type": "code",
   "execution_count": 11,
   "id": "20111c91",
   "metadata": {},
   "outputs": [
    {
     "data": {
      "text/html": [
       "<div>\n",
       "<style scoped>\n",
       "    .dataframe tbody tr th:only-of-type {\n",
       "        vertical-align: middle;\n",
       "    }\n",
       "\n",
       "    .dataframe tbody tr th {\n",
       "        vertical-align: top;\n",
       "    }\n",
       "\n",
       "    .dataframe thead th {\n",
       "        text-align: right;\n",
       "    }\n",
       "</style>\n",
       "<table border=\"1\" class=\"dataframe\">\n",
       "  <thead>\n",
       "    <tr style=\"text-align: right;\">\n",
       "      <th></th>\n",
       "      <th>CrimeId</th>\n",
       "      <th>Cantidad</th>\n",
       "    </tr>\n",
       "  </thead>\n",
       "  <tbody>\n",
       "    <tr>\n",
       "      <th>0</th>\n",
       "      <td>160903280</td>\n",
       "      <td>1</td>\n",
       "    </tr>\n",
       "    <tr>\n",
       "      <th>1</th>\n",
       "      <td>160912272</td>\n",
       "      <td>1</td>\n",
       "    </tr>\n",
       "    <tr>\n",
       "      <th>2</th>\n",
       "      <td>160912590</td>\n",
       "      <td>1</td>\n",
       "    </tr>\n",
       "    <tr>\n",
       "      <th>3</th>\n",
       "      <td>160912801</td>\n",
       "      <td>1</td>\n",
       "    </tr>\n",
       "    <tr>\n",
       "      <th>4</th>\n",
       "      <td>160912811</td>\n",
       "      <td>1</td>\n",
       "    </tr>\n",
       "    <tr>\n",
       "      <th>...</th>\n",
       "      <td>...</td>\n",
       "      <td>...</td>\n",
       "    </tr>\n",
       "    <tr>\n",
       "      <th>10042</th>\n",
       "      <td>160964210</td>\n",
       "      <td>1</td>\n",
       "    </tr>\n",
       "    <tr>\n",
       "      <th>10043</th>\n",
       "      <td>160964216</td>\n",
       "      <td>1</td>\n",
       "    </tr>\n",
       "    <tr>\n",
       "      <th>10044</th>\n",
       "      <td>160964227</td>\n",
       "      <td>1</td>\n",
       "    </tr>\n",
       "    <tr>\n",
       "      <th>10045</th>\n",
       "      <td>160964229</td>\n",
       "      <td>1</td>\n",
       "    </tr>\n",
       "    <tr>\n",
       "      <th>10046</th>\n",
       "      <td>160964249</td>\n",
       "      <td>1</td>\n",
       "    </tr>\n",
       "  </tbody>\n",
       "</table>\n",
       "<p>10047 rows × 2 columns</p>\n",
       "</div>"
      ],
      "text/plain": [
       "         CrimeId  Cantidad\n",
       "0      160903280         1\n",
       "1      160912272         1\n",
       "2      160912590         1\n",
       "3      160912801         1\n",
       "4      160912811         1\n",
       "...          ...       ...\n",
       "10042  160964210         1\n",
       "10043  160964216         1\n",
       "10044  160964227         1\n",
       "10045  160964229         1\n",
       "10046  160964249         1\n",
       "\n",
       "[10047 rows x 2 columns]"
      ]
     },
     "metadata": {},
     "output_type": "display_data"
    },
    {
     "data": {
      "text/html": [
       "<div>\n",
       "<style scoped>\n",
       "    .dataframe tbody tr th:only-of-type {\n",
       "        vertical-align: middle;\n",
       "    }\n",
       "\n",
       "    .dataframe tbody tr th {\n",
       "        vertical-align: top;\n",
       "    }\n",
       "\n",
       "    .dataframe thead th {\n",
       "        text-align: right;\n",
       "    }\n",
       "</style>\n",
       "<table border=\"1\" class=\"dataframe\">\n",
       "  <thead>\n",
       "    <tr style=\"text-align: right;\">\n",
       "      <th></th>\n",
       "      <th>OriginalCrimeTypeName</th>\n",
       "      <th>Cantidad</th>\n",
       "    </tr>\n",
       "  </thead>\n",
       "  <tbody>\n",
       "    <tr>\n",
       "      <th>0</th>\n",
       "      <td>***901 Req***</td>\n",
       "      <td>1</td>\n",
       "    </tr>\n",
       "    <tr>\n",
       "      <th>1</th>\n",
       "      <td>**Tazer**</td>\n",
       "      <td>1</td>\n",
       "    </tr>\n",
       "    <tr>\n",
       "      <th>2</th>\n",
       "      <td>*909*</td>\n",
       "      <td>1</td>\n",
       "    </tr>\n",
       "    <tr>\n",
       "      <th>3</th>\n",
       "      <td>.25/500e</td>\n",
       "      <td>2</td>\n",
       "    </tr>\n",
       "    <tr>\n",
       "      <th>4</th>\n",
       "      <td>.52</td>\n",
       "      <td>1</td>\n",
       "    </tr>\n",
       "    <tr>\n",
       "      <th>...</th>\n",
       "      <td>...</td>\n",
       "      <td>...</td>\n",
       "    </tr>\n",
       "    <tr>\n",
       "      <th>570</th>\n",
       "      <td>Wz</td>\n",
       "      <td>12</td>\n",
       "    </tr>\n",
       "    <tr>\n",
       "      <th>571</th>\n",
       "      <td>X</td>\n",
       "      <td>17</td>\n",
       "    </tr>\n",
       "    <tr>\n",
       "      <th>572</th>\n",
       "      <td>X 594</td>\n",
       "      <td>1</td>\n",
       "    </tr>\n",
       "    <tr>\n",
       "      <th>573</th>\n",
       "      <td>Yelling</td>\n",
       "      <td>3</td>\n",
       "    </tr>\n",
       "    <tr>\n",
       "      <th>574</th>\n",
       "      <td>`Drugs</td>\n",
       "      <td>1</td>\n",
       "    </tr>\n",
       "  </tbody>\n",
       "</table>\n",
       "<p>575 rows × 2 columns</p>\n",
       "</div>"
      ],
      "text/plain": [
       "    OriginalCrimeTypeName  Cantidad\n",
       "0           ***901 Req***         1\n",
       "1               **Tazer**         1\n",
       "2                   *909*         1\n",
       "3                .25/500e         2\n",
       "4                     .52         1\n",
       "..                    ...       ...\n",
       "570                    Wz        12\n",
       "571                     X        17\n",
       "572                 X 594         1\n",
       "573               Yelling         3\n",
       "574                `Drugs         1\n",
       "\n",
       "[575 rows x 2 columns]"
      ]
     },
     "metadata": {},
     "output_type": "display_data"
    },
    {
     "data": {
      "text/html": [
       "<div>\n",
       "<style scoped>\n",
       "    .dataframe tbody tr th:only-of-type {\n",
       "        vertical-align: middle;\n",
       "    }\n",
       "\n",
       "    .dataframe tbody tr th {\n",
       "        vertical-align: top;\n",
       "    }\n",
       "\n",
       "    .dataframe thead th {\n",
       "        text-align: right;\n",
       "    }\n",
       "</style>\n",
       "<table border=\"1\" class=\"dataframe\">\n",
       "  <thead>\n",
       "    <tr style=\"text-align: right;\">\n",
       "      <th></th>\n",
       "      <th>OffenseDate</th>\n",
       "      <th>Cantidad</th>\n",
       "    </tr>\n",
       "  </thead>\n",
       "  <tbody>\n",
       "    <tr>\n",
       "      <th>0</th>\n",
       "      <td>2013-04-04T00:00:00</td>\n",
       "      <td>1</td>\n",
       "    </tr>\n",
       "    <tr>\n",
       "      <th>1</th>\n",
       "      <td>2016-03-30T00:00:00</td>\n",
       "      <td>1</td>\n",
       "    </tr>\n",
       "    <tr>\n",
       "      <th>2</th>\n",
       "      <td>2016-03-31T00:00:00</td>\n",
       "      <td>87</td>\n",
       "    </tr>\n",
       "    <tr>\n",
       "      <th>3</th>\n",
       "      <td>2016-04-01T00:00:00</td>\n",
       "      <td>2224</td>\n",
       "    </tr>\n",
       "    <tr>\n",
       "      <th>4</th>\n",
       "      <td>2016-04-02T00:00:00</td>\n",
       "      <td>2259</td>\n",
       "    </tr>\n",
       "    <tr>\n",
       "      <th>5</th>\n",
       "      <td>2016-04-03T00:00:00</td>\n",
       "      <td>2193</td>\n",
       "    </tr>\n",
       "    <tr>\n",
       "      <th>6</th>\n",
       "      <td>2016-04-04T00:00:00</td>\n",
       "      <td>2255</td>\n",
       "    </tr>\n",
       "    <tr>\n",
       "      <th>7</th>\n",
       "      <td>2016-04-05T00:00:00</td>\n",
       "      <td>1030</td>\n",
       "    </tr>\n",
       "    <tr>\n",
       "      <th>8</th>\n",
       "      <td>2025-04-04T00:00:00</td>\n",
       "      <td>1</td>\n",
       "    </tr>\n",
       "  </tbody>\n",
       "</table>\n",
       "</div>"
      ],
      "text/plain": [
       "           OffenseDate  Cantidad\n",
       "0  2013-04-04T00:00:00         1\n",
       "1  2016-03-30T00:00:00         1\n",
       "2  2016-03-31T00:00:00        87\n",
       "3  2016-04-01T00:00:00      2224\n",
       "4  2016-04-02T00:00:00      2259\n",
       "5  2016-04-03T00:00:00      2193\n",
       "6  2016-04-04T00:00:00      2255\n",
       "7  2016-04-05T00:00:00      1030\n",
       "8  2025-04-04T00:00:00         1"
      ]
     },
     "metadata": {},
     "output_type": "display_data"
    },
    {
     "data": {
      "text/html": [
       "<div>\n",
       "<style scoped>\n",
       "    .dataframe tbody tr th:only-of-type {\n",
       "        vertical-align: middle;\n",
       "    }\n",
       "\n",
       "    .dataframe tbody tr th {\n",
       "        vertical-align: top;\n",
       "    }\n",
       "\n",
       "    .dataframe thead th {\n",
       "        text-align: right;\n",
       "    }\n",
       "</style>\n",
       "<table border=\"1\" class=\"dataframe\">\n",
       "  <thead>\n",
       "    <tr style=\"text-align: right;\">\n",
       "      <th></th>\n",
       "      <th>CallTime</th>\n",
       "      <th>Cantidad</th>\n",
       "    </tr>\n",
       "  </thead>\n",
       "  <tbody>\n",
       "    <tr>\n",
       "      <th>0</th>\n",
       "      <td>0:00</td>\n",
       "      <td>10</td>\n",
       "    </tr>\n",
       "    <tr>\n",
       "      <th>1</th>\n",
       "      <td>0:01</td>\n",
       "      <td>5</td>\n",
       "    </tr>\n",
       "    <tr>\n",
       "      <th>2</th>\n",
       "      <td>0:02</td>\n",
       "      <td>6</td>\n",
       "    </tr>\n",
       "    <tr>\n",
       "      <th>3</th>\n",
       "      <td>0:03</td>\n",
       "      <td>11</td>\n",
       "    </tr>\n",
       "    <tr>\n",
       "      <th>4</th>\n",
       "      <td>0:04</td>\n",
       "      <td>11</td>\n",
       "    </tr>\n",
       "    <tr>\n",
       "      <th>...</th>\n",
       "      <td>...</td>\n",
       "      <td>...</td>\n",
       "    </tr>\n",
       "    <tr>\n",
       "      <th>1411</th>\n",
       "      <td>9:55</td>\n",
       "      <td>7</td>\n",
       "    </tr>\n",
       "    <tr>\n",
       "      <th>1412</th>\n",
       "      <td>9:56</td>\n",
       "      <td>5</td>\n",
       "    </tr>\n",
       "    <tr>\n",
       "      <th>1413</th>\n",
       "      <td>9:57</td>\n",
       "      <td>7</td>\n",
       "    </tr>\n",
       "    <tr>\n",
       "      <th>1414</th>\n",
       "      <td>9:58</td>\n",
       "      <td>11</td>\n",
       "    </tr>\n",
       "    <tr>\n",
       "      <th>1415</th>\n",
       "      <td>9:59</td>\n",
       "      <td>9</td>\n",
       "    </tr>\n",
       "  </tbody>\n",
       "</table>\n",
       "<p>1416 rows × 2 columns</p>\n",
       "</div>"
      ],
      "text/plain": [
       "     CallTime  Cantidad\n",
       "0        0:00        10\n",
       "1        0:01         5\n",
       "2        0:02         6\n",
       "3        0:03        11\n",
       "4        0:04        11\n",
       "...       ...       ...\n",
       "1411     9:55         7\n",
       "1412     9:56         5\n",
       "1413     9:57         7\n",
       "1414     9:58        11\n",
       "1415     9:59         9\n",
       "\n",
       "[1416 rows x 2 columns]"
      ]
     },
     "metadata": {},
     "output_type": "display_data"
    },
    {
     "data": {
      "text/html": [
       "<div>\n",
       "<style scoped>\n",
       "    .dataframe tbody tr th:only-of-type {\n",
       "        vertical-align: middle;\n",
       "    }\n",
       "\n",
       "    .dataframe tbody tr th {\n",
       "        vertical-align: top;\n",
       "    }\n",
       "\n",
       "    .dataframe thead th {\n",
       "        text-align: right;\n",
       "    }\n",
       "</style>\n",
       "<table border=\"1\" class=\"dataframe\">\n",
       "  <thead>\n",
       "    <tr style=\"text-align: right;\">\n",
       "      <th></th>\n",
       "      <th>CallDateTime</th>\n",
       "      <th>Cantidad</th>\n",
       "    </tr>\n",
       "  </thead>\n",
       "  <tbody>\n",
       "    <tr>\n",
       "      <th>0</th>\n",
       "      <td>2016-03-30T18:42:00</td>\n",
       "      <td>1</td>\n",
       "    </tr>\n",
       "    <tr>\n",
       "      <th>1</th>\n",
       "      <td>2016-03-31T15:31:00</td>\n",
       "      <td>1</td>\n",
       "    </tr>\n",
       "    <tr>\n",
       "      <th>2</th>\n",
       "      <td>2016-03-31T16:49:00</td>\n",
       "      <td>1</td>\n",
       "    </tr>\n",
       "    <tr>\n",
       "      <th>3</th>\n",
       "      <td>2016-03-31T17:38:00</td>\n",
       "      <td>1</td>\n",
       "    </tr>\n",
       "    <tr>\n",
       "      <th>4</th>\n",
       "      <td>2016-03-31T17:42:00</td>\n",
       "      <td>1</td>\n",
       "    </tr>\n",
       "    <tr>\n",
       "      <th>...</th>\n",
       "      <td>...</td>\n",
       "      <td>...</td>\n",
       "    </tr>\n",
       "    <tr>\n",
       "      <th>5111</th>\n",
       "      <td>2016-04-05T23:32:00</td>\n",
       "      <td>2</td>\n",
       "    </tr>\n",
       "    <tr>\n",
       "      <th>5112</th>\n",
       "      <td>2016-04-05T23:38:00</td>\n",
       "      <td>1</td>\n",
       "    </tr>\n",
       "    <tr>\n",
       "      <th>5113</th>\n",
       "      <td>2016-04-05T23:43:00</td>\n",
       "      <td>1</td>\n",
       "    </tr>\n",
       "    <tr>\n",
       "      <th>5114</th>\n",
       "      <td>2016-04-05T23:48:00</td>\n",
       "      <td>2</td>\n",
       "    </tr>\n",
       "    <tr>\n",
       "      <th>5115</th>\n",
       "      <td>2016-04-05T23:54:00</td>\n",
       "      <td>1</td>\n",
       "    </tr>\n",
       "  </tbody>\n",
       "</table>\n",
       "<p>5116 rows × 2 columns</p>\n",
       "</div>"
      ],
      "text/plain": [
       "             CallDateTime  Cantidad\n",
       "0     2016-03-30T18:42:00         1\n",
       "1     2016-03-31T15:31:00         1\n",
       "2     2016-03-31T16:49:00         1\n",
       "3     2016-03-31T17:38:00         1\n",
       "4     2016-03-31T17:42:00         1\n",
       "...                   ...       ...\n",
       "5111  2016-04-05T23:32:00         2\n",
       "5112  2016-04-05T23:38:00         1\n",
       "5113  2016-04-05T23:43:00         1\n",
       "5114  2016-04-05T23:48:00         2\n",
       "5115  2016-04-05T23:54:00         1\n",
       "\n",
       "[5116 rows x 2 columns]"
      ]
     },
     "metadata": {},
     "output_type": "display_data"
    },
    {
     "data": {
      "text/html": [
       "<div>\n",
       "<style scoped>\n",
       "    .dataframe tbody tr th:only-of-type {\n",
       "        vertical-align: middle;\n",
       "    }\n",
       "\n",
       "    .dataframe tbody tr th {\n",
       "        vertical-align: top;\n",
       "    }\n",
       "\n",
       "    .dataframe thead th {\n",
       "        text-align: right;\n",
       "    }\n",
       "</style>\n",
       "<table border=\"1\" class=\"dataframe\">\n",
       "  <thead>\n",
       "    <tr style=\"text-align: right;\">\n",
       "      <th></th>\n",
       "      <th>Disposition</th>\n",
       "      <th>Cantidad</th>\n",
       "    </tr>\n",
       "  </thead>\n",
       "  <tbody>\n",
       "    <tr>\n",
       "      <th>0</th>\n",
       "      <td>22</td>\n",
       "      <td>77</td>\n",
       "    </tr>\n",
       "    <tr>\n",
       "      <th>1</th>\n",
       "      <td>ABA</td>\n",
       "      <td>97</td>\n",
       "    </tr>\n",
       "    <tr>\n",
       "      <th>2</th>\n",
       "      <td>ADM</td>\n",
       "      <td>48</td>\n",
       "    </tr>\n",
       "    <tr>\n",
       "      <th>3</th>\n",
       "      <td>ADV</td>\n",
       "      <td>1142</td>\n",
       "    </tr>\n",
       "    <tr>\n",
       "      <th>4</th>\n",
       "      <td>ARR</td>\n",
       "      <td>65</td>\n",
       "    </tr>\n",
       "    <tr>\n",
       "      <th>5</th>\n",
       "      <td>CAN</td>\n",
       "      <td>353</td>\n",
       "    </tr>\n",
       "    <tr>\n",
       "      <th>6</th>\n",
       "      <td>CIT</td>\n",
       "      <td>1425</td>\n",
       "    </tr>\n",
       "    <tr>\n",
       "      <th>7</th>\n",
       "      <td>CRT</td>\n",
       "      <td>2</td>\n",
       "    </tr>\n",
       "    <tr>\n",
       "      <th>8</th>\n",
       "      <td>GOA</td>\n",
       "      <td>1273</td>\n",
       "    </tr>\n",
       "    <tr>\n",
       "      <th>9</th>\n",
       "      <td>HAN</td>\n",
       "      <td>2820</td>\n",
       "    </tr>\n",
       "    <tr>\n",
       "      <th>10</th>\n",
       "      <td>INC</td>\n",
       "      <td>17</td>\n",
       "    </tr>\n",
       "    <tr>\n",
       "      <th>11</th>\n",
       "      <td>NCR</td>\n",
       "      <td>82</td>\n",
       "    </tr>\n",
       "    <tr>\n",
       "      <th>12</th>\n",
       "      <td>ND</td>\n",
       "      <td>427</td>\n",
       "    </tr>\n",
       "    <tr>\n",
       "      <th>13</th>\n",
       "      <td>NOM</td>\n",
       "      <td>324</td>\n",
       "    </tr>\n",
       "    <tr>\n",
       "      <th>14</th>\n",
       "      <td>Not recorded</td>\n",
       "      <td>543</td>\n",
       "    </tr>\n",
       "    <tr>\n",
       "      <th>15</th>\n",
       "      <td>PAS</td>\n",
       "      <td>170</td>\n",
       "    </tr>\n",
       "    <tr>\n",
       "      <th>16</th>\n",
       "      <td>REP</td>\n",
       "      <td>800</td>\n",
       "    </tr>\n",
       "    <tr>\n",
       "      <th>17</th>\n",
       "      <td>SFD</td>\n",
       "      <td>1</td>\n",
       "    </tr>\n",
       "    <tr>\n",
       "      <th>18</th>\n",
       "      <td>UTL</td>\n",
       "      <td>385</td>\n",
       "    </tr>\n",
       "  </tbody>\n",
       "</table>\n",
       "</div>"
      ],
      "text/plain": [
       "     Disposition  Cantidad\n",
       "0             22        77\n",
       "1            ABA        97\n",
       "2            ADM        48\n",
       "3            ADV      1142\n",
       "4            ARR        65\n",
       "5            CAN       353\n",
       "6            CIT      1425\n",
       "7            CRT         2\n",
       "8            GOA      1273\n",
       "9            HAN      2820\n",
       "10           INC        17\n",
       "11           NCR        82\n",
       "12            ND       427\n",
       "13           NOM       324\n",
       "14  Not recorded       543\n",
       "15           PAS       170\n",
       "16           REP       800\n",
       "17           SFD         1\n",
       "18           UTL       385"
      ]
     },
     "metadata": {},
     "output_type": "display_data"
    },
    {
     "data": {
      "text/html": [
       "<div>\n",
       "<style scoped>\n",
       "    .dataframe tbody tr th:only-of-type {\n",
       "        vertical-align: middle;\n",
       "    }\n",
       "\n",
       "    .dataframe tbody tr th {\n",
       "        vertical-align: top;\n",
       "    }\n",
       "\n",
       "    .dataframe thead th {\n",
       "        text-align: right;\n",
       "    }\n",
       "</style>\n",
       "<table border=\"1\" class=\"dataframe\">\n",
       "  <thead>\n",
       "    <tr style=\"text-align: right;\">\n",
       "      <th></th>\n",
       "      <th>Address</th>\n",
       "      <th>Cantidad</th>\n",
       "    </tr>\n",
       "  </thead>\n",
       "  <tbody>\n",
       "    <tr>\n",
       "      <th>0</th>\n",
       "      <td>0 Blk 6th St</td>\n",
       "      <td>1</td>\n",
       "    </tr>\n",
       "    <tr>\n",
       "      <th>1</th>\n",
       "      <td>0 Blk Colin P Kelly Jr St</td>\n",
       "      <td>1</td>\n",
       "    </tr>\n",
       "    <tr>\n",
       "      <th>2</th>\n",
       "      <td>0 Blk Eugenia Av</td>\n",
       "      <td>1</td>\n",
       "    </tr>\n",
       "    <tr>\n",
       "      <th>3</th>\n",
       "      <td>0 Blk Fern St</td>\n",
       "      <td>1</td>\n",
       "    </tr>\n",
       "    <tr>\n",
       "      <th>4</th>\n",
       "      <td>0 Blk Harriet St</td>\n",
       "      <td>3</td>\n",
       "    </tr>\n",
       "    <tr>\n",
       "      <th>...</th>\n",
       "      <td>...</td>\n",
       "      <td>...</td>\n",
       "    </tr>\n",
       "    <tr>\n",
       "      <th>5382</th>\n",
       "      <td>Yerba Buena Island</td>\n",
       "      <td>1</td>\n",
       "    </tr>\n",
       "    <tr>\n",
       "      <th>5383</th>\n",
       "      <td>Yorba St/sunset Bl</td>\n",
       "      <td>1</td>\n",
       "    </tr>\n",
       "    <tr>\n",
       "      <th>5384</th>\n",
       "      <td>York St/19th St</td>\n",
       "      <td>1</td>\n",
       "    </tr>\n",
       "    <tr>\n",
       "      <th>5385</th>\n",
       "      <td>York St/24th St</td>\n",
       "      <td>1</td>\n",
       "    </tr>\n",
       "    <tr>\n",
       "      <th>5386</th>\n",
       "      <td>Yosemite Av/jennings St</td>\n",
       "      <td>1</td>\n",
       "    </tr>\n",
       "  </tbody>\n",
       "</table>\n",
       "<p>5387 rows × 2 columns</p>\n",
       "</div>"
      ],
      "text/plain": [
       "                        Address  Cantidad\n",
       "0                  0 Blk 6th St         1\n",
       "1     0 Blk Colin P Kelly Jr St         1\n",
       "2              0 Blk Eugenia Av         1\n",
       "3                 0 Blk Fern St         1\n",
       "4              0 Blk Harriet St         3\n",
       "...                         ...       ...\n",
       "5382         Yerba Buena Island         1\n",
       "5383         Yorba St/sunset Bl         1\n",
       "5384            York St/19th St         1\n",
       "5385            York St/24th St         1\n",
       "5386    Yosemite Av/jennings St         1\n",
       "\n",
       "[5387 rows x 2 columns]"
      ]
     },
     "metadata": {},
     "output_type": "display_data"
    },
    {
     "data": {
      "text/html": [
       "<div>\n",
       "<style scoped>\n",
       "    .dataframe tbody tr th:only-of-type {\n",
       "        vertical-align: middle;\n",
       "    }\n",
       "\n",
       "    .dataframe tbody tr th {\n",
       "        vertical-align: top;\n",
       "    }\n",
       "\n",
       "    .dataframe thead th {\n",
       "        text-align: right;\n",
       "    }\n",
       "</style>\n",
       "<table border=\"1\" class=\"dataframe\">\n",
       "  <thead>\n",
       "    <tr style=\"text-align: right;\">\n",
       "      <th></th>\n",
       "      <th>City</th>\n",
       "      <th>Cantidad</th>\n",
       "    </tr>\n",
       "  </thead>\n",
       "  <tbody>\n",
       "    <tr>\n",
       "      <th>0</th>\n",
       "      <td>S</td>\n",
       "      <td>1</td>\n",
       "    </tr>\n",
       "    <tr>\n",
       "      <th>1</th>\n",
       "      <td>Brisbane</td>\n",
       "      <td>1</td>\n",
       "    </tr>\n",
       "    <tr>\n",
       "      <th>2</th>\n",
       "      <td>Daly City</td>\n",
       "      <td>5</td>\n",
       "    </tr>\n",
       "    <tr>\n",
       "      <th>3</th>\n",
       "      <td>Presidio</td>\n",
       "      <td>3</td>\n",
       "    </tr>\n",
       "    <tr>\n",
       "      <th>4</th>\n",
       "      <td>SAN FRANCISCO</td>\n",
       "      <td>1</td>\n",
       "    </tr>\n",
       "    <tr>\n",
       "      <th>5</th>\n",
       "      <td>San Francisco</td>\n",
       "      <td>9665</td>\n",
       "    </tr>\n",
       "    <tr>\n",
       "      <th>6</th>\n",
       "      <td>Treasure Isla</td>\n",
       "      <td>51</td>\n",
       "    </tr>\n",
       "    <tr>\n",
       "      <th>7</th>\n",
       "      <td>Yerba Buena</td>\n",
       "      <td>3</td>\n",
       "    </tr>\n",
       "  </tbody>\n",
       "</table>\n",
       "</div>"
      ],
      "text/plain": [
       "            City  Cantidad\n",
       "0              S         1\n",
       "1       Brisbane         1\n",
       "2      Daly City         5\n",
       "3       Presidio         3\n",
       "4  SAN FRANCISCO         1\n",
       "5  San Francisco      9665\n",
       "6  Treasure Isla        51\n",
       "7    Yerba Buena         3"
      ]
     },
     "metadata": {},
     "output_type": "display_data"
    },
    {
     "data": {
      "text/html": [
       "<div>\n",
       "<style scoped>\n",
       "    .dataframe tbody tr th:only-of-type {\n",
       "        vertical-align: middle;\n",
       "    }\n",
       "\n",
       "    .dataframe tbody tr th {\n",
       "        vertical-align: top;\n",
       "    }\n",
       "\n",
       "    .dataframe thead th {\n",
       "        text-align: right;\n",
       "    }\n",
       "</style>\n",
       "<table border=\"1\" class=\"dataframe\">\n",
       "  <thead>\n",
       "    <tr style=\"text-align: right;\">\n",
       "      <th></th>\n",
       "      <th>State</th>\n",
       "      <th>Cantidad</th>\n",
       "    </tr>\n",
       "  </thead>\n",
       "  <tbody>\n",
       "    <tr>\n",
       "      <th>0</th>\n",
       "      <td>CA</td>\n",
       "      <td>10048</td>\n",
       "    </tr>\n",
       "  </tbody>\n",
       "</table>\n",
       "</div>"
      ],
      "text/plain": [
       "  State  Cantidad\n",
       "0    CA     10048"
      ]
     },
     "metadata": {},
     "output_type": "display_data"
    },
    {
     "data": {
      "text/html": [
       "<div>\n",
       "<style scoped>\n",
       "    .dataframe tbody tr th:only-of-type {\n",
       "        vertical-align: middle;\n",
       "    }\n",
       "\n",
       "    .dataframe tbody tr th {\n",
       "        vertical-align: top;\n",
       "    }\n",
       "\n",
       "    .dataframe thead th {\n",
       "        text-align: right;\n",
       "    }\n",
       "</style>\n",
       "<table border=\"1\" class=\"dataframe\">\n",
       "  <thead>\n",
       "    <tr style=\"text-align: right;\">\n",
       "      <th></th>\n",
       "      <th>AgencyId</th>\n",
       "      <th>Cantidad</th>\n",
       "    </tr>\n",
       "  </thead>\n",
       "  <tbody>\n",
       "    <tr>\n",
       "      <th>0</th>\n",
       "      <td>1</td>\n",
       "      <td>10048</td>\n",
       "    </tr>\n",
       "    <tr>\n",
       "      <th>1</th>\n",
       "      <td>CA</td>\n",
       "      <td>3</td>\n",
       "    </tr>\n",
       "  </tbody>\n",
       "</table>\n",
       "</div>"
      ],
      "text/plain": [
       "  AgencyId  Cantidad\n",
       "0        1     10048\n",
       "1       CA         3"
      ]
     },
     "metadata": {},
     "output_type": "display_data"
    },
    {
     "data": {
      "text/html": [
       "<div>\n",
       "<style scoped>\n",
       "    .dataframe tbody tr th:only-of-type {\n",
       "        vertical-align: middle;\n",
       "    }\n",
       "\n",
       "    .dataframe tbody tr th {\n",
       "        vertical-align: top;\n",
       "    }\n",
       "\n",
       "    .dataframe thead th {\n",
       "        text-align: right;\n",
       "    }\n",
       "</style>\n",
       "<table border=\"1\" class=\"dataframe\">\n",
       "  <thead>\n",
       "    <tr style=\"text-align: right;\">\n",
       "      <th></th>\n",
       "      <th>Range</th>\n",
       "      <th>Cantidad</th>\n",
       "    </tr>\n",
       "  </thead>\n",
       "  <tbody>\n",
       "  </tbody>\n",
       "</table>\n",
       "</div>"
      ],
      "text/plain": [
       "Empty DataFrame\n",
       "Columns: [Range, Cantidad]\n",
       "Index: []"
      ]
     },
     "metadata": {},
     "output_type": "display_data"
    },
    {
     "data": {
      "text/html": [
       "<div>\n",
       "<style scoped>\n",
       "    .dataframe tbody tr th:only-of-type {\n",
       "        vertical-align: middle;\n",
       "    }\n",
       "\n",
       "    .dataframe tbody tr th {\n",
       "        vertical-align: top;\n",
       "    }\n",
       "\n",
       "    .dataframe thead th {\n",
       "        text-align: right;\n",
       "    }\n",
       "</style>\n",
       "<table border=\"1\" class=\"dataframe\">\n",
       "  <thead>\n",
       "    <tr style=\"text-align: right;\">\n",
       "      <th></th>\n",
       "      <th>AddressType</th>\n",
       "      <th>Cantidad</th>\n",
       "    </tr>\n",
       "  </thead>\n",
       "  <tbody>\n",
       "    <tr>\n",
       "      <th>0</th>\n",
       "      <td>1</td>\n",
       "      <td>3</td>\n",
       "    </tr>\n",
       "    <tr>\n",
       "      <th>1</th>\n",
       "      <td>Common Location</td>\n",
       "      <td>818</td>\n",
       "    </tr>\n",
       "    <tr>\n",
       "      <th>2</th>\n",
       "      <td>Geo-Override</td>\n",
       "      <td>469</td>\n",
       "    </tr>\n",
       "    <tr>\n",
       "      <th>3</th>\n",
       "      <td>Intersection</td>\n",
       "      <td>3701</td>\n",
       "    </tr>\n",
       "    <tr>\n",
       "      <th>4</th>\n",
       "      <td>Intersectioon</td>\n",
       "      <td>1</td>\n",
       "    </tr>\n",
       "    <tr>\n",
       "      <th>5</th>\n",
       "      <td>Premise Address</td>\n",
       "      <td>5059</td>\n",
       "    </tr>\n",
       "  </tbody>\n",
       "</table>\n",
       "</div>"
      ],
      "text/plain": [
       "       AddressType  Cantidad\n",
       "0                1         3\n",
       "1  Common Location       818\n",
       "2     Geo-Override       469\n",
       "3     Intersection      3701\n",
       "4    Intersectioon         1\n",
       "5  Premise Address      5059"
      ]
     },
     "metadata": {},
     "output_type": "display_data"
    }
   ],
   "source": [
    "'''Mostrar datos unicos que se repiten'''\n",
    "d_unico(columnas)"
   ]
  },
  {
   "cell_type": "markdown",
   "id": "b9609c07",
   "metadata": {},
   "source": [
    "# Primera solución a tomar\n",
    "\n",
    "Se procede a eliminar las columnas redundantes: OffenseDate,CallTime y CallDateTime, nos quedaremos con CallDateTime"
   ]
  },
  {
   "cell_type": "code",
   "execution_count": 12,
   "id": "59bee1bf",
   "metadata": {},
   "outputs": [
    {
     "data": {
      "text/html": [
       "<div>\n",
       "<style scoped>\n",
       "    .dataframe tbody tr th:only-of-type {\n",
       "        vertical-align: middle;\n",
       "    }\n",
       "\n",
       "    .dataframe tbody tr th {\n",
       "        vertical-align: top;\n",
       "    }\n",
       "\n",
       "    .dataframe thead th {\n",
       "        text-align: right;\n",
       "    }\n",
       "</style>\n",
       "<table border=\"1\" class=\"dataframe\">\n",
       "  <thead>\n",
       "    <tr style=\"text-align: right;\">\n",
       "      <th></th>\n",
       "      <th>CrimeId</th>\n",
       "      <th>OriginalCrimeTypeName</th>\n",
       "      <th>CallDateTime</th>\n",
       "      <th>Disposition</th>\n",
       "      <th>Address</th>\n",
       "      <th>City</th>\n",
       "      <th>State</th>\n",
       "      <th>AgencyId</th>\n",
       "      <th>Range</th>\n",
       "      <th>AddressType</th>\n",
       "    </tr>\n",
       "  </thead>\n",
       "  <tbody>\n",
       "    <tr>\n",
       "      <th>0</th>\n",
       "      <td>160903280</td>\n",
       "      <td>Assault / Battery</td>\n",
       "      <td>2016-03-30T18:42:00</td>\n",
       "      <td>REP</td>\n",
       "      <td>100 Block Of Chilton Av</td>\n",
       "      <td>San Francisco</td>\n",
       "      <td>CA</td>\n",
       "      <td>1</td>\n",
       "      <td>NaN</td>\n",
       "      <td>Premise Address</td>\n",
       "    </tr>\n",
       "    <tr>\n",
       "      <th>1</th>\n",
       "      <td>160912272</td>\n",
       "      <td>Homeless Complaint</td>\n",
       "      <td>2016-03-31T15:31:00</td>\n",
       "      <td>GOA</td>\n",
       "      <td>2300 Block Of Market St</td>\n",
       "      <td>San Francisco</td>\n",
       "      <td>CA</td>\n",
       "      <td>1</td>\n",
       "      <td>NaN</td>\n",
       "      <td>Premise Address</td>\n",
       "    </tr>\n",
       "    <tr>\n",
       "      <th>2</th>\n",
       "      <td>160912590</td>\n",
       "      <td>Susp Info</td>\n",
       "      <td>2016-03-31T16:49:00</td>\n",
       "      <td>GOA</td>\n",
       "      <td>2300 Block Of Market St</td>\n",
       "      <td>San Francisco</td>\n",
       "      <td>CA</td>\n",
       "      <td>1</td>\n",
       "      <td>NaN</td>\n",
       "      <td>Premise Address</td>\n",
       "    </tr>\n",
       "    <tr>\n",
       "      <th>3</th>\n",
       "      <td>160912801</td>\n",
       "      <td>Report</td>\n",
       "      <td>2016-03-31T17:38:00</td>\n",
       "      <td>GOA</td>\n",
       "      <td>500 Block Of 7th St</td>\n",
       "      <td>San Francisco</td>\n",
       "      <td>CA</td>\n",
       "      <td>1</td>\n",
       "      <td>NaN</td>\n",
       "      <td>Premise Address</td>\n",
       "    </tr>\n",
       "    <tr>\n",
       "      <th>4</th>\n",
       "      <td>160912811</td>\n",
       "      <td>594</td>\n",
       "      <td>2016-03-31T17:42:00</td>\n",
       "      <td>REP</td>\n",
       "      <td>Beale St/bryant St</td>\n",
       "      <td>San Francisco</td>\n",
       "      <td>CA</td>\n",
       "      <td>1</td>\n",
       "      <td>NaN</td>\n",
       "      <td>Intersection</td>\n",
       "    </tr>\n",
       "    <tr>\n",
       "      <th>...</th>\n",
       "      <td>...</td>\n",
       "      <td>...</td>\n",
       "      <td>...</td>\n",
       "      <td>...</td>\n",
       "      <td>...</td>\n",
       "      <td>...</td>\n",
       "      <td>...</td>\n",
       "      <td>...</td>\n",
       "      <td>...</td>\n",
       "      <td>...</td>\n",
       "    </tr>\n",
       "    <tr>\n",
       "      <th>10046</th>\n",
       "      <td>160964210</td>\n",
       "      <td>Well Being Check</td>\n",
       "      <td>2016-04-05T23:38:00</td>\n",
       "      <td>GOA</td>\n",
       "      <td>Hollister Av/hawes St</td>\n",
       "      <td>San Francisco</td>\n",
       "      <td>CA</td>\n",
       "      <td>1</td>\n",
       "      <td>NaN</td>\n",
       "      <td>Intersection</td>\n",
       "    </tr>\n",
       "    <tr>\n",
       "      <th>10047</th>\n",
       "      <td>160964216</td>\n",
       "      <td>Traffic Stop</td>\n",
       "      <td>2016-04-05T23:43:00</td>\n",
       "      <td>ADV</td>\n",
       "      <td>California St/mason St</td>\n",
       "      <td>San Francisco</td>\n",
       "      <td>CA</td>\n",
       "      <td>1</td>\n",
       "      <td>NaN</td>\n",
       "      <td>Intersection</td>\n",
       "    </tr>\n",
       "    <tr>\n",
       "      <th>10048</th>\n",
       "      <td>160964227</td>\n",
       "      <td>Traffic Stop</td>\n",
       "      <td>2016-04-05T23:48:00</td>\n",
       "      <td>CIT</td>\n",
       "      <td>Rosella Ct/onondaga Av</td>\n",
       "      <td>San Francisco</td>\n",
       "      <td>CA</td>\n",
       "      <td>1</td>\n",
       "      <td>NaN</td>\n",
       "      <td>Intersection</td>\n",
       "    </tr>\n",
       "    <tr>\n",
       "      <th>10049</th>\n",
       "      <td>160964229</td>\n",
       "      <td>Passing Call</td>\n",
       "      <td>2016-04-05T23:48:00</td>\n",
       "      <td>Not recorded</td>\n",
       "      <td>0 Blk Herbst Rd</td>\n",
       "      <td>San Francisco</td>\n",
       "      <td>CA</td>\n",
       "      <td>1</td>\n",
       "      <td>NaN</td>\n",
       "      <td>Geo-Override</td>\n",
       "    </tr>\n",
       "    <tr>\n",
       "      <th>10050</th>\n",
       "      <td>160964249</td>\n",
       "      <td>Traffic Stop</td>\n",
       "      <td>2016-04-05T23:54:00</td>\n",
       "      <td>ADV</td>\n",
       "      <td>Grant Av/geary St</td>\n",
       "      <td>San Francisco</td>\n",
       "      <td>CA</td>\n",
       "      <td>1</td>\n",
       "      <td>NaN</td>\n",
       "      <td>Intersection</td>\n",
       "    </tr>\n",
       "  </tbody>\n",
       "</table>\n",
       "<p>10051 rows × 10 columns</p>\n",
       "</div>"
      ],
      "text/plain": [
       "         CrimeId OriginalCrimeTypeName         CallDateTime   Disposition  \\\n",
       "0      160903280     Assault / Battery  2016-03-30T18:42:00           REP   \n",
       "1      160912272    Homeless Complaint  2016-03-31T15:31:00           GOA   \n",
       "2      160912590             Susp Info  2016-03-31T16:49:00           GOA   \n",
       "3      160912801                Report  2016-03-31T17:38:00           GOA   \n",
       "4      160912811                   594  2016-03-31T17:42:00           REP   \n",
       "...          ...                   ...                  ...           ...   \n",
       "10046  160964210      Well Being Check  2016-04-05T23:38:00           GOA   \n",
       "10047  160964216          Traffic Stop  2016-04-05T23:43:00           ADV   \n",
       "10048  160964227          Traffic Stop  2016-04-05T23:48:00           CIT   \n",
       "10049  160964229          Passing Call  2016-04-05T23:48:00  Not recorded   \n",
       "10050  160964249          Traffic Stop  2016-04-05T23:54:00           ADV   \n",
       "\n",
       "                       Address           City State AgencyId  Range  \\\n",
       "0      100 Block Of Chilton Av  San Francisco    CA        1    NaN   \n",
       "1      2300 Block Of Market St  San Francisco    CA        1    NaN   \n",
       "2      2300 Block Of Market St  San Francisco    CA        1    NaN   \n",
       "3          500 Block Of 7th St  San Francisco    CA        1    NaN   \n",
       "4           Beale St/bryant St  San Francisco    CA        1    NaN   \n",
       "...                        ...            ...   ...      ...    ...   \n",
       "10046    Hollister Av/hawes St  San Francisco    CA        1    NaN   \n",
       "10047   California St/mason St  San Francisco    CA        1    NaN   \n",
       "10048   Rosella Ct/onondaga Av  San Francisco    CA        1    NaN   \n",
       "10049          0 Blk Herbst Rd  San Francisco    CA        1    NaN   \n",
       "10050        Grant Av/geary St  San Francisco    CA        1    NaN   \n",
       "\n",
       "           AddressType  \n",
       "0      Premise Address  \n",
       "1      Premise Address  \n",
       "2      Premise Address  \n",
       "3      Premise Address  \n",
       "4         Intersection  \n",
       "...                ...  \n",
       "10046     Intersection  \n",
       "10047     Intersection  \n",
       "10048     Intersection  \n",
       "10049     Geo-Override  \n",
       "10050     Intersection  \n",
       "\n",
       "[10051 rows x 10 columns]"
      ]
     },
     "execution_count": 12,
     "metadata": {},
     "output_type": "execute_result"
    }
   ],
   "source": [
    "df.drop(['OffenseDate', 'CallTime'], axis=1)"
   ]
  },
  {
   "cell_type": "markdown",
   "id": "c3586e41",
   "metadata": {},
   "source": [
    "# Eliminar datos desconocidos\n",
    "\n",
    "En este caso recordemos que Range no tiene datos así que se eliminará"
   ]
  },
  {
   "cell_type": "code",
   "execution_count": 13,
   "id": "e24ce049",
   "metadata": {},
   "outputs": [],
   "source": [
    "'''Se elimina la columna Range que está vacía'''\n",
    "df.drop(columns='Range', axis=1, inplace=True)"
   ]
  },
  {
   "cell_type": "markdown",
   "id": "5dfc4c22",
   "metadata": {},
   "source": [
    "# Tratamiento a datos faltantes\n",
    "\n",
    "Para los datos vacíos se agruparán para encontrar un patrón y saber qué tratamiento darles"
   ]
  },
  {
   "cell_type": "code",
   "execution_count": 14,
   "id": "9d09a868",
   "metadata": {},
   "outputs": [
    {
     "data": {
      "text/html": [
       "<div>\n",
       "<style scoped>\n",
       "    .dataframe tbody tr th:only-of-type {\n",
       "        vertical-align: middle;\n",
       "    }\n",
       "\n",
       "    .dataframe tbody tr th {\n",
       "        vertical-align: top;\n",
       "    }\n",
       "\n",
       "    .dataframe thead th {\n",
       "        text-align: right;\n",
       "    }\n",
       "</style>\n",
       "<table border=\"1\" class=\"dataframe\">\n",
       "  <thead>\n",
       "    <tr style=\"text-align: right;\">\n",
       "      <th></th>\n",
       "      <th></th>\n",
       "      <th>CrimeId</th>\n",
       "      <th>OriginalCrimeTypeName</th>\n",
       "      <th>OffenseDate</th>\n",
       "      <th>CallTime</th>\n",
       "      <th>CallDateTime</th>\n",
       "      <th>Disposition</th>\n",
       "      <th>Address</th>\n",
       "      <th>City</th>\n",
       "      <th>State</th>\n",
       "    </tr>\n",
       "    <tr>\n",
       "      <th>AgencyId</th>\n",
       "      <th>AddressType</th>\n",
       "      <th></th>\n",
       "      <th></th>\n",
       "      <th></th>\n",
       "      <th></th>\n",
       "      <th></th>\n",
       "      <th></th>\n",
       "      <th></th>\n",
       "      <th></th>\n",
       "      <th></th>\n",
       "    </tr>\n",
       "  </thead>\n",
       "  <tbody>\n",
       "    <tr>\n",
       "      <th rowspan=\"5\" valign=\"top\">1</th>\n",
       "      <th>Common Location</th>\n",
       "      <td>818</td>\n",
       "      <td>818</td>\n",
       "      <td>818</td>\n",
       "      <td>818</td>\n",
       "      <td>818</td>\n",
       "      <td>818</td>\n",
       "      <td>818</td>\n",
       "      <td>817</td>\n",
       "      <td>818</td>\n",
       "    </tr>\n",
       "    <tr>\n",
       "      <th>Geo-Override</th>\n",
       "      <td>469</td>\n",
       "      <td>469</td>\n",
       "      <td>469</td>\n",
       "      <td>469</td>\n",
       "      <td>469</td>\n",
       "      <td>469</td>\n",
       "      <td>469</td>\n",
       "      <td>151</td>\n",
       "      <td>469</td>\n",
       "    </tr>\n",
       "    <tr>\n",
       "      <th>Intersection</th>\n",
       "      <td>3701</td>\n",
       "      <td>3701</td>\n",
       "      <td>3701</td>\n",
       "      <td>3701</td>\n",
       "      <td>3701</td>\n",
       "      <td>3701</td>\n",
       "      <td>3701</td>\n",
       "      <td>3701</td>\n",
       "      <td>3701</td>\n",
       "    </tr>\n",
       "    <tr>\n",
       "      <th>Intersectioon</th>\n",
       "      <td>1</td>\n",
       "      <td>1</td>\n",
       "      <td>1</td>\n",
       "      <td>1</td>\n",
       "      <td>1</td>\n",
       "      <td>1</td>\n",
       "      <td>1</td>\n",
       "      <td>1</td>\n",
       "      <td>1</td>\n",
       "    </tr>\n",
       "    <tr>\n",
       "      <th>Premise Address</th>\n",
       "      <td>5059</td>\n",
       "      <td>5059</td>\n",
       "      <td>5059</td>\n",
       "      <td>5059</td>\n",
       "      <td>5059</td>\n",
       "      <td>5059</td>\n",
       "      <td>5059</td>\n",
       "      <td>5059</td>\n",
       "      <td>5059</td>\n",
       "    </tr>\n",
       "    <tr>\n",
       "      <th>CA</th>\n",
       "      <th>1</th>\n",
       "      <td>3</td>\n",
       "      <td>3</td>\n",
       "      <td>3</td>\n",
       "      <td>3</td>\n",
       "      <td>3</td>\n",
       "      <td>3</td>\n",
       "      <td>3</td>\n",
       "      <td>1</td>\n",
       "      <td>0</td>\n",
       "    </tr>\n",
       "  </tbody>\n",
       "</table>\n",
       "</div>"
      ],
      "text/plain": [
       "                          CrimeId  OriginalCrimeTypeName  OffenseDate  \\\n",
       "AgencyId AddressType                                                    \n",
       "1        Common Location      818                    818          818   \n",
       "         Geo-Override         469                    469          469   \n",
       "         Intersection        3701                   3701         3701   \n",
       "         Intersectioon          1                      1            1   \n",
       "         Premise Address     5059                   5059         5059   \n",
       "CA       1                      3                      3            3   \n",
       "\n",
       "                          CallTime  CallDateTime  Disposition  Address  City  \\\n",
       "AgencyId AddressType                                                           \n",
       "1        Common Location       818           818          818      818   817   \n",
       "         Geo-Override          469           469          469      469   151   \n",
       "         Intersection         3701          3701         3701     3701  3701   \n",
       "         Intersectioon           1             1            1        1     1   \n",
       "         Premise Address      5059          5059         5059     5059  5059   \n",
       "CA       1                       3             3            3        3     1   \n",
       "\n",
       "                          State  \n",
       "AgencyId AddressType             \n",
       "1        Common Location    818  \n",
       "         Geo-Override       469  \n",
       "         Intersection      3701  \n",
       "         Intersectioon        1  \n",
       "         Premise Address   5059  \n",
       "CA       1                    0  "
      ]
     },
     "execution_count": 14,
     "metadata": {},
     "output_type": "execute_result"
    }
   ],
   "source": [
    "'''Agrupamiento de datos'''\n",
    "df.groupby(['AgencyId','AddressType']).count()"
   ]
  },
  {
   "cell_type": "code",
   "execution_count": 15,
   "id": "49e30632",
   "metadata": {},
   "outputs": [
    {
     "data": {
      "text/html": [
       "<div>\n",
       "<style scoped>\n",
       "    .dataframe tbody tr th:only-of-type {\n",
       "        vertical-align: middle;\n",
       "    }\n",
       "\n",
       "    .dataframe tbody tr th {\n",
       "        vertical-align: top;\n",
       "    }\n",
       "\n",
       "    .dataframe thead th {\n",
       "        text-align: right;\n",
       "    }\n",
       "</style>\n",
       "<table border=\"1\" class=\"dataframe\">\n",
       "  <thead>\n",
       "    <tr style=\"text-align: right;\">\n",
       "      <th></th>\n",
       "      <th>CrimeId</th>\n",
       "      <th>OriginalCrimeTypeName</th>\n",
       "      <th>OffenseDate</th>\n",
       "      <th>CallTime</th>\n",
       "      <th>CallDateTime</th>\n",
       "      <th>Disposition</th>\n",
       "      <th>Address</th>\n",
       "      <th>City</th>\n",
       "      <th>State</th>\n",
       "      <th>AgencyId</th>\n",
       "      <th>AddressType</th>\n",
       "    </tr>\n",
       "  </thead>\n",
       "  <tbody>\n",
       "    <tr>\n",
       "      <th>5771</th>\n",
       "      <td>160942112</td>\n",
       "      <td>Auto Boost / Strip</td>\n",
       "      <td>2016-04-03T00:00:00</td>\n",
       "      <td>14:30</td>\n",
       "      <td>2016-04-03T14:30:00</td>\n",
       "      <td>REP</td>\n",
       "      <td>Martin Luther King Dr/bowling Green Dr</td>\n",
       "      <td>NaN</td>\n",
       "      <td>NaN</td>\n",
       "      <td>CA</td>\n",
       "      <td>1</td>\n",
       "    </tr>\n",
       "    <tr>\n",
       "      <th>8021</th>\n",
       "      <td>160952280</td>\n",
       "      <td>Auto Boost / Strip</td>\n",
       "      <td>2016-04-04T00:00:00</td>\n",
       "      <td>14:46</td>\n",
       "      <td>2016-04-04T14:46:00</td>\n",
       "      <td>REP</td>\n",
       "      <td>Martin Luther King Dr/nancy Pelosi Dr</td>\n",
       "      <td>S</td>\n",
       "      <td>NaN</td>\n",
       "      <td>CA</td>\n",
       "      <td>1</td>\n",
       "    </tr>\n",
       "    <tr>\n",
       "      <th>8473</th>\n",
       "      <td>160953118</td>\n",
       "      <td>Auto Boost / Strip</td>\n",
       "      <td>2016-04-04T00:00:00</td>\n",
       "      <td>18:11</td>\n",
       "      <td>2016-04-04T18:11:00</td>\n",
       "      <td>REP</td>\n",
       "      <td>Conservatory Drive E/john F Kennedy Dr</td>\n",
       "      <td>NaN</td>\n",
       "      <td>NaN</td>\n",
       "      <td>CA</td>\n",
       "      <td>1</td>\n",
       "    </tr>\n",
       "  </tbody>\n",
       "</table>\n",
       "</div>"
      ],
      "text/plain": [
       "        CrimeId OriginalCrimeTypeName          OffenseDate CallTime  \\\n",
       "5771  160942112    Auto Boost / Strip  2016-04-03T00:00:00    14:30   \n",
       "8021  160952280    Auto Boost / Strip  2016-04-04T00:00:00    14:46   \n",
       "8473  160953118    Auto Boost / Strip  2016-04-04T00:00:00    18:11   \n",
       "\n",
       "             CallDateTime Disposition                                 Address  \\\n",
       "5771  2016-04-03T14:30:00         REP  Martin Luther King Dr/bowling Green Dr   \n",
       "8021  2016-04-04T14:46:00         REP   Martin Luther King Dr/nancy Pelosi Dr   \n",
       "8473  2016-04-04T18:11:00         REP  Conservatory Drive E/john F Kennedy Dr   \n",
       "\n",
       "     City State AgencyId AddressType  \n",
       "5771  NaN   NaN       CA           1  \n",
       "8021    S   NaN       CA           1  \n",
       "8473  NaN   NaN       CA           1  "
      ]
     },
     "execution_count": 15,
     "metadata": {},
     "output_type": "execute_result"
    }
   ],
   "source": [
    "'''Se toman valores de los datos faltantes'''\n",
    "df[(df['AgencyId']=='CA') & (df['AddressType']=='1')]"
   ]
  },
  {
   "cell_type": "code",
   "execution_count": 16,
   "id": "75567d1b",
   "metadata": {},
   "outputs": [],
   "source": [
    "'''El tratamiento que se dará a los datos faltantes es la eliminación'''\n",
    "'''El mismo tratamiento se le dará a los valores no reconocidos'''\n",
    "df.drop([5771, 8021, 8473], axis=0, inplace=True)"
   ]
  },
  {
   "cell_type": "code",
   "execution_count": 17,
   "id": "77fa7b13",
   "metadata": {},
   "outputs": [
    {
     "data": {
      "text/plain": [
       "(10048, 11)"
      ]
     },
     "execution_count": 17,
     "metadata": {},
     "output_type": "execute_result"
    }
   ],
   "source": [
    "'''Al eliminar los datos inválidos nos queda un nuevo dataset'''\n",
    "df.shape"
   ]
  },
  {
   "cell_type": "code",
   "execution_count": 18,
   "id": "2aba1fb7",
   "metadata": {},
   "outputs": [
    {
     "data": {
      "text/plain": [
       "CrimeId                    0\n",
       "OriginalCrimeTypeName      0\n",
       "OffenseDate                0\n",
       "CallTime                   0\n",
       "CallDateTime               0\n",
       "Disposition                0\n",
       "Address                    0\n",
       "City                     319\n",
       "State                      0\n",
       "AgencyId                   0\n",
       "AddressType                0\n",
       "dtype: int64"
      ]
     },
     "execution_count": 18,
     "metadata": {},
     "output_type": "execute_result"
    }
   ],
   "source": [
    "'''Se procede a verificar qué otros datos faltan'''\n",
    "df.isnull().sum()"
   ]
  },
  {
   "cell_type": "markdown",
   "id": "831f6622",
   "metadata": {},
   "source": [
    "# Tratamiento de datos faltantes tipo letras\n",
    "\n",
    "Al igual que en el anterior apartado, verémos qué hacer con los datos que faltan en City"
   ]
  },
  {
   "cell_type": "code",
   "execution_count": 19,
   "id": "cdc4c39d",
   "metadata": {},
   "outputs": [
    {
     "data": {
      "text/plain": [
       "array(['San Francisco', nan, 'Daly City', 'Treasure Isla', 'Yerba Buena',\n",
       "       'SAN FRANCISCO', 'Presidio', 'Brisbane'], dtype=object)"
      ]
     },
     "execution_count": 19,
     "metadata": {},
     "output_type": "execute_result"
    }
   ],
   "source": [
    "'''Se verifican los valores únicos de la columna'''\n",
    "df['City'].unique()"
   ]
  },
  {
   "cell_type": "code",
   "execution_count": 20,
   "id": "e4038a90",
   "metadata": {},
   "outputs": [
    {
     "data": {
      "text/html": [
       "<div>\n",
       "<style scoped>\n",
       "    .dataframe tbody tr th:only-of-type {\n",
       "        vertical-align: middle;\n",
       "    }\n",
       "\n",
       "    .dataframe tbody tr th {\n",
       "        vertical-align: top;\n",
       "    }\n",
       "\n",
       "    .dataframe thead th {\n",
       "        text-align: right;\n",
       "    }\n",
       "</style>\n",
       "<table border=\"1\" class=\"dataframe\">\n",
       "  <thead>\n",
       "    <tr style=\"text-align: right;\">\n",
       "      <th></th>\n",
       "      <th>CrimeId</th>\n",
       "      <th>OriginalCrimeTypeName</th>\n",
       "      <th>OffenseDate</th>\n",
       "      <th>CallTime</th>\n",
       "      <th>CallDateTime</th>\n",
       "      <th>Disposition</th>\n",
       "      <th>Address</th>\n",
       "      <th>City</th>\n",
       "      <th>State</th>\n",
       "      <th>AgencyId</th>\n",
       "      <th>AddressType</th>\n",
       "    </tr>\n",
       "  </thead>\n",
       "  <tbody>\n",
       "    <tr>\n",
       "      <th>3420</th>\n",
       "      <td>160931948</td>\n",
       "      <td>Pups</td>\n",
       "      <td>2016-04-02T00:00:00</td>\n",
       "      <td>14:04</td>\n",
       "      <td>2016-04-02T14:04:00</td>\n",
       "      <td>HAN</td>\n",
       "      <td>Van Ness Av/north Point St</td>\n",
       "      <td>SAN FRANCISCO</td>\n",
       "      <td>CA</td>\n",
       "      <td>1</td>\n",
       "      <td>Intersection</td>\n",
       "    </tr>\n",
       "  </tbody>\n",
       "</table>\n",
       "</div>"
      ],
      "text/plain": [
       "        CrimeId OriginalCrimeTypeName          OffenseDate CallTime  \\\n",
       "3420  160931948                  Pups  2016-04-02T00:00:00    14:04   \n",
       "\n",
       "             CallDateTime Disposition                     Address  \\\n",
       "3420  2016-04-02T14:04:00         HAN  Van Ness Av/north Point St   \n",
       "\n",
       "               City State AgencyId   AddressType  \n",
       "3420  SAN FRANCISCO    CA        1  Intersection  "
      ]
     },
     "execution_count": 20,
     "metadata": {},
     "output_type": "execute_result"
    }
   ],
   "source": [
    "'''Ver qué columna contiene el dato repetido con mayúsculas'''\n",
    "df[(df['City']=='SAN FRANCISCO')]"
   ]
  },
  {
   "cell_type": "code",
   "execution_count": 21,
   "id": "c4920992",
   "metadata": {},
   "outputs": [],
   "source": [
    "'''Cambiamos el dato con el comando loc para cambiar las palabras'''\n",
    "df['City']= df['City'].replace(['SAN FRANCISCO'],'San Francisco')"
   ]
  },
  {
   "cell_type": "code",
   "execution_count": 89,
   "id": "9fe336a4",
   "metadata": {},
   "outputs": [
    {
     "data": {
      "text/plain": [
       "array(['San Francisco', nan, 'Daly City', 'Treasure Isla', 'Yerba Buena',\n",
       "       'Presidio', 'Brisbane'], dtype=object)"
      ]
     },
     "execution_count": 89,
     "metadata": {},
     "output_type": "execute_result"
    }
   ],
   "source": [
    "'''Ejecutamos el comando de valores unicos para verificar el cambio'''\n",
    "df['City'].unique()"
   ]
  },
  {
   "cell_type": "markdown",
   "id": "6e7fb5be",
   "metadata": {},
   "source": [
    "# Analizamos las etiquetas del la Dirección\n",
    "\n",
    "Se vio datos que bien se podrían considerar mal escritos al haber dos tipos de Intersecciones como se mostrará a continuación"
   ]
  },
  {
   "cell_type": "code",
   "execution_count": 22,
   "id": "c1dac60a",
   "metadata": {},
   "outputs": [
    {
     "data": {
      "text/html": [
       "<div>\n",
       "<style scoped>\n",
       "    .dataframe tbody tr th:only-of-type {\n",
       "        vertical-align: middle;\n",
       "    }\n",
       "\n",
       "    .dataframe tbody tr th {\n",
       "        vertical-align: top;\n",
       "    }\n",
       "\n",
       "    .dataframe thead th {\n",
       "        text-align: right;\n",
       "    }\n",
       "</style>\n",
       "<table border=\"1\" class=\"dataframe\">\n",
       "  <thead>\n",
       "    <tr style=\"text-align: right;\">\n",
       "      <th></th>\n",
       "      <th>AddressType</th>\n",
       "      <th>Cantidad</th>\n",
       "    </tr>\n",
       "  </thead>\n",
       "  <tbody>\n",
       "    <tr>\n",
       "      <th>0</th>\n",
       "      <td>Common Location</td>\n",
       "      <td>818</td>\n",
       "    </tr>\n",
       "    <tr>\n",
       "      <th>1</th>\n",
       "      <td>Geo-Override</td>\n",
       "      <td>469</td>\n",
       "    </tr>\n",
       "    <tr>\n",
       "      <th>2</th>\n",
       "      <td>Intersection</td>\n",
       "      <td>3701</td>\n",
       "    </tr>\n",
       "    <tr>\n",
       "      <th>3</th>\n",
       "      <td>Intersectioon</td>\n",
       "      <td>1</td>\n",
       "    </tr>\n",
       "    <tr>\n",
       "      <th>4</th>\n",
       "      <td>Premise Address</td>\n",
       "      <td>5059</td>\n",
       "    </tr>\n",
       "  </tbody>\n",
       "</table>\n",
       "</div>"
      ],
      "text/plain": [
       "       AddressType  Cantidad\n",
       "0  Common Location       818\n",
       "1     Geo-Override       469\n",
       "2     Intersection      3701\n",
       "3    Intersectioon         1\n",
       "4  Premise Address      5059"
      ]
     },
     "metadata": {},
     "output_type": "display_data"
    }
   ],
   "source": [
    "'''Se muestra los valores unicos de la columna AddressType'''\n",
    "d_unico(['AddressType'])"
   ]
  },
  {
   "cell_type": "code",
   "execution_count": 23,
   "id": "b63158d0",
   "metadata": {},
   "outputs": [],
   "source": [
    "'''se estandariza la intersección en los datos'''\n",
    "df['AddressType']= df['AddressType'].replace(['Intersectioon'],'Intersection')"
   ]
  },
  {
   "cell_type": "code",
   "execution_count": 24,
   "id": "687c0d1a",
   "metadata": {},
   "outputs": [
    {
     "data": {
      "text/html": [
       "<div>\n",
       "<style scoped>\n",
       "    .dataframe tbody tr th:only-of-type {\n",
       "        vertical-align: middle;\n",
       "    }\n",
       "\n",
       "    .dataframe tbody tr th {\n",
       "        vertical-align: top;\n",
       "    }\n",
       "\n",
       "    .dataframe thead th {\n",
       "        text-align: right;\n",
       "    }\n",
       "</style>\n",
       "<table border=\"1\" class=\"dataframe\">\n",
       "  <thead>\n",
       "    <tr style=\"text-align: right;\">\n",
       "      <th></th>\n",
       "      <th>AddressType</th>\n",
       "      <th>Cantidad</th>\n",
       "    </tr>\n",
       "  </thead>\n",
       "  <tbody>\n",
       "    <tr>\n",
       "      <th>0</th>\n",
       "      <td>Common Location</td>\n",
       "      <td>818</td>\n",
       "    </tr>\n",
       "    <tr>\n",
       "      <th>1</th>\n",
       "      <td>Geo-Override</td>\n",
       "      <td>469</td>\n",
       "    </tr>\n",
       "    <tr>\n",
       "      <th>2</th>\n",
       "      <td>Intersection</td>\n",
       "      <td>3702</td>\n",
       "    </tr>\n",
       "    <tr>\n",
       "      <th>3</th>\n",
       "      <td>Premise Address</td>\n",
       "      <td>5059</td>\n",
       "    </tr>\n",
       "  </tbody>\n",
       "</table>\n",
       "</div>"
      ],
      "text/plain": [
       "       AddressType  Cantidad\n",
       "0  Common Location       818\n",
       "1     Geo-Override       469\n",
       "2     Intersection      3702\n",
       "3  Premise Address      5059"
      ]
     },
     "metadata": {},
     "output_type": "display_data"
    }
   ],
   "source": [
    "'''Verificamos el cambio de valores'''\n",
    "d_unico(['AddressType'])"
   ]
  },
  {
   "cell_type": "code",
   "execution_count": null,
   "id": "81e16dae",
   "metadata": {},
   "outputs": [],
   "source": []
  },
  {
   "cell_type": "code",
   "execution_count": null,
   "id": "b10a2146",
   "metadata": {},
   "outputs": [],
   "source": []
  }
 ],
 "metadata": {
  "kernelspec": {
   "display_name": "Python 3 (ipykernel)",
   "language": "python",
   "name": "python3"
  },
  "language_info": {
   "codemirror_mode": {
    "name": "ipython",
    "version": 3
   },
   "file_extension": ".py",
   "mimetype": "text/x-python",
   "name": "python",
   "nbconvert_exporter": "python",
   "pygments_lexer": "ipython3",
   "version": "3.9.12"
  }
 },
 "nbformat": 4,
 "nbformat_minor": 5
}
